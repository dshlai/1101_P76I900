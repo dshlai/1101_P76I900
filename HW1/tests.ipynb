{
    "cells": [
        {
            "cell_type": "code",
            "execution_count": 8,
            "metadata": {},
            "outputs": [],
            "source": [
                "import xml.etree.cElementTree as ET\n",
                "import utility as utl\n",
                "from pprint import pprint"
            ]
        },
        {
            "cell_type": "code",
            "execution_count": 9,
            "metadata": {},
            "outputs": [],
            "source": [
                "tree = ET.parse('/Users/dshlai/Datasets/HW1_Tests/test1.xml')\n",
                "root = tree.getroot()"
            ]
        },
        {
            "cell_type": "code",
            "execution_count": 11,
            "metadata": {},
            "outputs": [
                {
                    "name": "stdout",
                    "output_type": "stream",
                    "text": [
                        "\"Getting concatnated abstract text ... \"\n"
                    ]
                },
                {
                    "data": {
                        "text/plain": [
                            "'The virological and immunological effects of the immunomodulatory drugs used for COVID-19 remain unknown. We evaluated the impact of interleukin (IL)-6 blockade with tocilizumab on SARS-CoV-2 viral kinetics and the antibody response in patients with COVID-19. Prospective cohort study in patients admitted with COVID-19. Serial nasopharyngeal and plasma samples were measured for SARS-CoV-2 RNA and S-IgG/N-IgG titers, respectively. 138 patients with confirmed infection were included; 76 (55%) underwent IL-6 blockade. Median initial SOFA (p\\xa0=\\xa00•016) and SARS-CoV-2 viral load (p<0•001, Mann-Whitney-Wilcoxon test) were significantly higher among anti-IL-6 users. Patients under IL-6 blockade showed delayed viral clearance in the Kaplan-Meier curves (HR 0•35 [95%CI] [0•15-0•81], log-rank p\\xa0=\\xa00•014), but an adjusted propensity score matching model did not demonstrate a significant relationship of IL-6 blockade with viral clearance (HR 1•63 [0•35-7•7]). Cox regression showed an inverse association between SARS-CoV-2 RNA clearance and the initial viral load (HR 0•35 [0•11-0•89]). Patients under the IL-6 blocker showed shorter median time to seropositivity, higher peak antibody titers, and higher cumulative proportion of seropositivity in the Kaplan Meier curves (HR 3•1 [1•9-5] for S-IgG; and HR 3•0 [1•9-4•9] for N-IgG; log-rank p<0•001 for both). However, no significant differences between groups were found in either S-IgG (HR 1•56 [0•41-6•0]) nor N-IgG (HR 0•96 [0•26-3•5]) responses in an adjusted propensity score analysis. Our results suggest that in patients infected with SARS-CoV-2, IL-6 blockade does not impair the viral specific antibody responses. Although a delayed viral clearance was observed, it was driven by a higher initial viral load. The study supports the safety of this therapy in patients with COVID-19. Instituto de salud Carlos III (Spain). '"
                        ]
                    },
                    "execution_count": 11,
                    "metadata": {},
                    "output_type": "execute_result"
                }
            ],
            "source": [
                "article_list = [art for art in root.iter() if art.tag == \"PubmedArticle\"]\n",
                "\n",
                "text_obj = utl.PubmedArticle(article_list[1])\n",
                "text_obj.abstract_text"
            ]
        }
    ],
    "metadata": {
        "interpreter": {
            "hash": "d5df5e9682c848108f9246135c9fab90698955b95c1daba20bf9d3819be04d35"
        },
        "kernelspec": {
            "display_name": "Python 3.6.13 64-bit ('P76I900_HW1': conda)",
            "name": "python3"
        },
        "language_info": {
            "codemirror_mode": {
                "name": "ipython",
                "version": 3
            },
            "file_extension": ".py",
            "mimetype": "text/x-python",
            "name": "python",
            "nbconvert_exporter": "python",
            "pygments_lexer": "ipython3",
            "version": "3.6.13"
        },
        "orig_nbformat": 4
    },
    "nbformat": 4,
    "nbformat_minor": 2
}
