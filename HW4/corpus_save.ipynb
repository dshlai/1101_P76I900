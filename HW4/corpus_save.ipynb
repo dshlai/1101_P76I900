{
 "cells": [
  {
   "cell_type": "code",
   "execution_count": 1,
   "metadata": {},
   "outputs": [
    {
     "name": "stderr",
     "output_type": "stream",
     "text": [
      "/home/dennislai/anaconda3/envs/P76I900/lib/python3.9/site-packages/torch/cuda/__init__.py:52: UserWarning: CUDA initialization: Unexpected error from cudaGetDeviceCount(). Did you run some cuda functions before calling NumCudaDevices() that might have already set an error? Error 804: forward compatibility was attempted on non supported HW (Triggered internally at  ../c10/cuda/CUDAFunctions.cpp:115.)\n",
      "  return torch._C._cuda_getDeviceCount() > 0\n"
     ]
    },
    {
     "data": {
      "text/plain": [
       "{'name': 'wikinews',\n",
       " 'site_url': 'https://en.wikinews.org/wiki/Main_Page',\n",
       " 'description': 'All pages for a given language- and version-specific Wikinews site snapshot.'}"
      ]
     },
     "execution_count": 1,
     "metadata": {},
     "output_type": "execute_result"
    }
   ],
   "source": [
    "import textacy.datasets\n",
    "import numpy as np\n",
    "from itertools import chain\n",
    "ds = textacy.datasets.Wikinews(lang=\"en\", version=\"current\")\n",
    "ds.info"
   ]
  },
  {
   "cell_type": "code",
   "execution_count": 5,
   "metadata": {},
   "outputs": [
    {
     "name": "stdout",
     "output_type": "stream",
     "text": [
      "200 141 200 200\n"
     ]
    }
   ],
   "source": [
    "limit = 200\n",
    "\n",
    "tv_recs = ds.records(category=\"Television\", limit=limit)\n",
    "food_recs = ds.records(category=\"Food\")\n",
    "health_recs = ds.records(category=\"Health\", limit=limit)\n",
    "poli_recs = ds.records(category=\"Politics and conflicts\", limit=limit)\n",
    "\n",
    "tv_list = list(tv_recs)\n",
    "food_list = list(food_recs)\n",
    "health_list = list(health_recs)\n",
    "poli_list = list(poli_recs)\n",
    "\n",
    "print(len(tv_list), len(food_list), len(health_list), len(poli_list))"
   ]
  },
  {
   "cell_type": "code",
   "execution_count": 8,
   "metadata": {},
   "outputs": [
    {
     "data": {
      "text/plain": [
       "741"
      ]
     },
     "execution_count": 8,
     "metadata": {},
     "output_type": "execute_result"
    }
   ],
   "source": [
    "total = tv_list + food_list + health_list + poli_list\n",
    "len(total)"
   ]
  },
  {
   "cell_type": "code",
   "execution_count": 9,
   "metadata": {},
   "outputs": [],
   "source": [
    "corpus = textacy.Corpus(\"en_core_web_trf\", data=total)\n",
    "corpus.save(\"../../models/P76I900/HW4/wikinews_4cls_corpus.bin.gz\")"
   ]
  }
 ],
 "metadata": {
  "kernelspec": {
   "display_name": "Python 3",
   "language": "python",
   "name": "python3"
  },
  "language_info": {
   "codemirror_mode": {
    "name": "ipython",
    "version": 3
   },
   "file_extension": ".py",
   "mimetype": "text/x-python",
   "name": "python",
   "nbconvert_exporter": "python",
   "pygments_lexer": "ipython3",
   "version": "3.9.7"
  },
  "orig_nbformat": 4
 },
 "nbformat": 4,
 "nbformat_minor": 2
}
