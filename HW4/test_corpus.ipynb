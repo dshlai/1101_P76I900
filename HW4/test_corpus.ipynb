{
 "cells": [
  {
   "cell_type": "code",
   "execution_count": 1,
   "metadata": {},
   "outputs": [
    {
     "name": "stderr",
     "output_type": "stream",
     "text": [
      "/home/dennislai/anaconda3/envs/P76I900/lib/python3.9/site-packages/torch/cuda/__init__.py:52: UserWarning: CUDA initialization: Unexpected error from cudaGetDeviceCount(). Did you run some cuda functions before calling NumCudaDevices() that might have already set an error? Error 804: forward compatibility was attempted on non supported HW (Triggered internally at  ../c10/cuda/CUDAFunctions.cpp:115.)\n",
      "  return torch._C._cuda_getDeviceCount() > 0\n"
     ]
    }
   ],
   "source": [
    "import textacy\n",
    "import seaborn as sns\n",
    "from sklearn.decomposition import TruncatedSVD, SparsePCA\n",
    "import pandas\n",
    "import pandas as pd\n",
    "import textacy.representations.vectorizers as vectorizers\n",
    "import textacy.tm\n",
    "import umap\n",
    "import umap.plot"
   ]
  },
  {
   "cell_type": "code",
   "execution_count": 2,
   "metadata": {},
   "outputs": [],
   "source": [
    "#corpus = textacy.Corpus.load(\"en_core_web_trf\", \"../../models/P76I900/HW4/wikinews_corpus.bin.gz\")\n",
    "corpus_food = textacy.Corpus.load(\"en_core_web_trf\", \"../../models/P76I900/HW4/wikinews_food_corpus.bin.gz\")\n",
    "corpus_health = textacy.Corpus.load(\"en_core_web_trf\", \"../../models/P76I900/HW4/wikinews_health_corpus.bin.gz\")\n",
    "corpus_poli = textacy.Corpus.load(\"en_core_web_trf\", \"../../models/P76I900/HW4/wikinews_politics_corpus.bin.gz\")"
   ]
  },
  {
   "cell_type": "code",
   "execution_count": 3,
   "metadata": {},
   "outputs": [],
   "source": [
    "food_wc = corpus_food.word_counts(by='lemma_', weighting='count', filter_stops=True, filter_punct=True)\n",
    "health_wc = corpus_health.word_counts(by='lemma_', weighting='count', filter_stops=True, filter_punct=True)\n",
    "poli_wc =corpus_poli.word_counts(by='lemma_', weighting='count', filter_stops=True, filter_punct=True)"
   ]
  },
  {
   "cell_type": "code",
   "execution_count": 5,
   "metadata": {},
   "outputs": [
    {
     "data": {
      "text/plain": [
       "[('say', 382),\n",
       " ('food', 304),\n",
       " ('finger', 241),\n",
       " ('Wikinews', 204),\n",
       " ('find', 202),\n",
       " ('2005', 194),\n",
       " ('Wendy', 193),\n",
       " ('April', 177),\n",
       " ('2021', 171),\n",
       " ('year', 157)]"
      ]
     },
     "execution_count": 5,
     "metadata": {},
     "output_type": "execute_result"
    }
   ],
   "source": [
    "top_words_food = sorted(food_wc.items(), key=lambda x:x[1], reverse=True)\n",
    "top_words_food[:10]"
   ]
  },
  {
   "cell_type": "code",
   "execution_count": 7,
   "metadata": {},
   "outputs": [
    {
     "data": {
      "text/plain": [
       "[('say', 2288),\n",
       " ('Wikinews', 1426),\n",
       " ('2021', 1191),\n",
       " ('year', 1123),\n",
       " ('write', 1015),\n",
       " ('article', 974),\n",
       " ('2006', 967),\n",
       " ('people', 964),\n",
       " ('2007', 924),\n",
       " ('2005', 881)]"
      ]
     },
     "execution_count": 7,
     "metadata": {},
     "output_type": "execute_result"
    }
   ],
   "source": [
    "top_words_health = sorted(health_wc.items(), key=lambda x:x[1], reverse=True)\n",
    "top_words_health[:10]"
   ]
  },
  {
   "cell_type": "code",
   "execution_count": 8,
   "metadata": {},
   "outputs": [
    {
     "data": {
      "text/plain": [
       "[('say', 2288),\n",
       " ('Wikinews', 1426),\n",
       " ('2021', 1191),\n",
       " ('year', 1123),\n",
       " ('write', 1015),\n",
       " ('article', 974),\n",
       " ('2006', 967),\n",
       " ('people', 964),\n",
       " ('2007', 924),\n",
       " ('2005', 881)]"
      ]
     },
     "execution_count": 8,
     "metadata": {},
     "output_type": "execute_result"
    }
   ],
   "source": [
    "top_words_poli = sorted(poli_wc.items(), key=lambda x:x[1], reverse=True)\n",
    "top_words_poli[:10]"
   ]
  },
  {
   "cell_type": "code",
   "execution_count": 11,
   "metadata": {},
   "outputs": [
    {
     "data": {
      "text/plain": [
       "<AxesSubplot:>"
      ]
     },
     "execution_count": 11,
     "metadata": {},
     "output_type": "execute_result"
    },
    {
     "data": {
      "image/png": "[encoded data removed]",
      "text/plain": [
       "<Figure size 432x288 with 1 Axes>"
      ]
     },
     "metadata": {
      "needs_background": "light"
     },
     "output_type": "display_data"
    }
   ],
   "source": [
    "df = pandas.Series(food_wc)\n",
    "df.plot()"
   ]
  },
  {
   "cell_type": "code",
   "execution_count": 17,
   "metadata": {},
   "outputs": [
    {
     "data": {
      "text/plain": [
       "Tuesday, April 7, 2009  LGBT Related articles DaBaby Levitating remix losing US radio audiences after the rapper's comments on HIV/AIDS Taiwan's legislature first in Asia to legalize same-sex marriage Toronto serial killer Bruce McArthur pleads guilty to eight murders 22nd annual ILGA-Europe conference meets in Brussels: in pictures In pictures: thousands attend 16th annual Taiwan Pride Collaborate! Pillars of Wikinews writing Writing an article Vermont is now the fourth state in the United States where same-sex marriage is legal. Vermont lawmakers overrode Governor Jim Douglas' veto on Tuesday to permit gays and lesbians in the state to marry. The state Senate voted 23–5 in favor of overriding the Governor's veto and the House followed up with a 100–49 vote. Two Senators were not in attendance and House Representative Sonny Audette did not vote. Vermont's constitution requires the votes of at least two-thirds of the House and Senate to override a veto. Governor Douglas spoke out about his position on the bill in front of the state Senate last month saying, \"I've made my position quite clear that I believe marriage is and ought to remain the union of a man and a woman, that our civil unions law affords equality of opportunities and rights under state law and that that should suffice.\" Governor Douglas vetoed the bill last night when it arrived at his office. Today's decision came nine years after the state was the first in the country to adopt a civil unions law. Have an opinion on this story? Share it!\n",
       "\n",
       "AP. \"Vermont Legalizes Gay Marriage, With Override of Governor's Veto\" — FOX News, April 7, 2009 AP/CBS News. \"Vermont Nixes Veto, Legalizes Gay Marriage\" — CBS News, April 7, 2009 \"Vermont Legalizes Gay Marriage\" — WCAX-TV, April 7, 2009 \"Vermont Legislature Legalizes Gay Marriage\" — WPTZ-TV, April 7, 2009"
      ]
     },
     "execution_count": 17,
     "metadata": {},
     "output_type": "execute_result"
    }
   ],
   "source": [
    "corpus_health[0]"
   ]
  },
  {
   "cell_type": "code",
   "execution_count": 18,
   "metadata": {},
   "outputs": [],
   "source": [
    "# TF-IDF Bad of Words Matrix\n",
    "vectorizer = vectorizers.Vectorizer(tf_type='linear', idf_type='smooth')\n",
    "\n",
    "tokenized_food = ((term.lemma_ for term in textacy.extract.terms(doc, ngs=1, ents=True, ncs=True, dedupe=True)) for doc in corpus_food)\n",
    "tokenized_health = ((term.lemma_ for term in textacy.extract.terms(doc, ngs=1, ents=True, ncs=True, dedupe=True)) for doc in corpus_health)\n",
    "tokenized_poli = ((term.lemma_ for term in textacy.extract.terms(doc, ngs=1, ents=True, ncs=True, dedupe=True)) for doc in corpus_poli)\n",
    "\n",
    "\n",
    "dot_food = vectorizer.fit_transform(tokenized_food)\n",
    "dot_health = vectorizer.fit_transform(tokenized_health)\n",
    "dot_poli = vectorizer.fit_transform(tokenized_poli)"
   ]
  },
  {
   "cell_type": "code",
   "execution_count": 21,
   "metadata": {},
   "outputs": [
    {
     "name": "stderr",
     "output_type": "stream",
     "text": [
      "*c* argument looks like a single numeric RGB or RGBA sequence, which should be avoided as value-mapping will have precedence in case its length matches with *x* & *y*.  Please use the *color* keyword-argument or provide a 2D array with a single row if you intend to specify the same RGB or RGBA value for all points.\n"
     ]
    },
    {
     "data": {
      "text/plain": [
       "<AxesSubplot:>"
      ]
     },
     "execution_count": 21,
     "metadata": {},
     "output_type": "execute_result"
    },
    {
     "data": {
      "image/png": "[encoded data removed]",
      "text/plain": [
       "<Figure size 800x800 with 1 Axes>"
      ]
     },
     "metadata": {},
     "output_type": "display_data"
    }
   ],
   "source": [
    "#Try Umap\n",
    "mapper = umap.UMAP(metric='hellinger', random_state=42).fit(dot_health)\n",
    "umap.plot.points(mapper)"
   ]
  }
 ],
 "metadata": {
  "kernelspec": {
   "display_name": "Python 3",
   "language": "python",
   "name": "python3"
  },
  "language_info": {
   "codemirror_mode": {
    "name": "ipython",
    "version": 3
   },
   "file_extension": ".py",
   "mimetype": "text/x-python",
   "name": "python",
   "nbconvert_exporter": "python",
   "pygments_lexer": "ipython3",
   "version": "3.9.7"
  },
  "orig_nbformat": 4
 },
 "nbformat": 4,
 "nbformat_minor": 2
}
