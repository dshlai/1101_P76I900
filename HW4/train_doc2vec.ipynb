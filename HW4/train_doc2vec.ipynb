{
 "cells": [
  {
   "cell_type": "code",
   "execution_count": 7,
   "metadata": {},
   "outputs": [],
   "source": [
    "import textacy\n",
    "import gensim\n",
    "import textacy.datasets\n",
    "ds = textacy.datasets.Wikinews(lang=\"en\", version=\"current\")\n",
    "#ds.download()\n",
    "#ds.info\n"
   ]
  },
  {
   "cell_type": "code",
   "execution_count": 8,
   "metadata": {},
   "outputs": [],
   "source": [
    "import logging\n",
    "logging.basicConfig(format='%(asctime)s : %(levelname)s : %(message)s', level=logging.INFO)"
   ]
  },
  {
   "cell_type": "code",
   "execution_count": 9,
   "metadata": {},
   "outputs": [],
   "source": [
    "def process_doc(corpus, tokens_only=False):\n",
    "    for ln, line in enumerate(corpus):\n",
    "        line = \" \".join([l.text for l in line if not l.is_stop])\n",
    "        #line = line.text\n",
    "        tokens = gensim.utils.simple_preprocess(line)\n",
    "        if tokens_only:\n",
    "            yield tokens\n",
    "        else:\n",
    "            # For training data, add tags\n",
    "            yield gensim.models.doc2vec.TaggedDocument(tokens, [ln])\n"
   ]
  },
  {
   "cell_type": "code",
   "execution_count": 10,
   "metadata": {},
   "outputs": [
    {
     "name": "stderr",
     "output_type": "stream",
     "text": [
      "2021-12-07 20:54:01,570 : INFO : loaded 'en_core_web_trf' spaCy language pipeline\n"
     ]
    }
   ],
   "source": [
    "corpus = textacy.Corpus.load(\"en_core_web_trf\", \"../../models/P76I900/HW4/wikinews_4cls_corpus.bin.gz\")"
   ]
  },
  {
   "cell_type": "code",
   "execution_count": 17,
   "metadata": {},
   "outputs": [],
   "source": [
    "train_corpus = list(process_doc(corpus))\n",
    "#test = [c for c in train_corpus]\n",
    "#print(test[0])\n",
    "test_corpus = list(process_doc(corpus, tokens_only=True))"
   ]
  },
  {
   "cell_type": "code",
   "execution_count": 18,
   "metadata": {},
   "outputs": [
    {
     "name": "stderr",
     "output_type": "stream",
     "text": [
      "2021-12-07 20:59:21,573 : INFO : Doc2Vec lifecycle event {'params': 'Doc2Vec(dm/m,d50,n5,w5,mc8,s0.001,t3)', 'datetime': '2021-12-07T20:59:21.573580', 'gensim': '4.1.2', 'python': '3.9.7 (default, Sep 16 2021, 08:50:36) \\n[Clang 10.0.0 ]', 'platform': 'macOS-10.16-x86_64-i386-64bit', 'event': 'created'}\n"
     ]
    }
   ],
   "source": [
    "model = gensim.models.doc2vec.Doc2Vec(vector_size=50, min_count=8, epochs=40)"
   ]
  },
  {
   "cell_type": "code",
   "execution_count": 19,
   "metadata": {},
   "outputs": [
    {
     "name": "stderr",
     "output_type": "stream",
     "text": [
      "2021-12-07 20:59:23,024 : INFO : collecting all words and their counts\n",
      "2021-12-07 20:59:23,025 : INFO : PROGRESS: at example #0, processed 0 words (0/s), 0 word types, 0 tags\n",
      "2021-12-07 20:59:23,076 : INFO : collected 23306 word types and 741 unique tags from a corpus of 741 examples and 226533 words\n",
      "2021-12-07 20:59:23,077 : INFO : Creating a fresh vocabulary\n",
      "2021-12-07 20:59:23,107 : INFO : Doc2Vec lifecycle event {'msg': 'effective_min_count=8 retains 4989 unique words (21.406504762722047%% of original 23306, drops 18317)', 'datetime': '2021-12-07T20:59:23.107126', 'gensim': '4.1.2', 'python': '3.9.7 (default, Sep 16 2021, 08:50:36) \\n[Clang 10.0.0 ]', 'platform': 'macOS-10.16-x86_64-i386-64bit', 'event': 'prepare_vocab'}\n",
      "2021-12-07 20:59:23,108 : INFO : Doc2Vec lifecycle event {'msg': 'effective_min_count=8 leaves 187545 word corpus (82.78926249155752%% of original 226533, drops 38988)', 'datetime': '2021-12-07T20:59:23.108175', 'gensim': '4.1.2', 'python': '3.9.7 (default, Sep 16 2021, 08:50:36) \\n[Clang 10.0.0 ]', 'platform': 'macOS-10.16-x86_64-i386-64bit', 'event': 'prepare_vocab'}\n",
      "2021-12-07 20:59:23,136 : INFO : deleting the raw counts dictionary of 23306 items\n",
      "2021-12-07 20:59:23,138 : INFO : sample=0.001 downsamples 23 most-common words\n",
      "2021-12-07 20:59:23,140 : INFO : Doc2Vec lifecycle event {'msg': 'downsampling leaves estimated 183765.7669793815 word corpus (98.0%% of prior 187545)', 'datetime': '2021-12-07T20:59:23.140293', 'gensim': '4.1.2', 'python': '3.9.7 (default, Sep 16 2021, 08:50:36) \\n[Clang 10.0.0 ]', 'platform': 'macOS-10.16-x86_64-i386-64bit', 'event': 'prepare_vocab'}\n",
      "2021-12-07 20:59:23,187 : INFO : estimated required memory for 4989 words and 50 dimensions: 4786500 bytes\n",
      "2021-12-07 20:59:23,189 : INFO : resetting layer weights\n"
     ]
    }
   ],
   "source": [
    "model.build_vocab(train_corpus)"
   ]
  },
  {
   "cell_type": "code",
   "execution_count": 20,
   "metadata": {},
   "outputs": [
    {
     "name": "stderr",
     "output_type": "stream",
     "text": [
      "2021-12-07 20:59:25,454 : INFO : Doc2Vec lifecycle event {'msg': 'training model with 3 workers on 4989 vocabulary and 50 features, using sg=0 hs=0 sample=0.001 negative=5 window=5 shrink_windows=True', 'datetime': '2021-12-07T20:59:25.454509', 'gensim': '4.1.2', 'python': '3.9.7 (default, Sep 16 2021, 08:50:36) \\n[Clang 10.0.0 ]', 'platform': 'macOS-10.16-x86_64-i386-64bit', 'event': 'train'}\n",
      "2021-12-07 20:59:25,655 : INFO : worker thread finished; awaiting finish of 2 more threads\n",
      "2021-12-07 20:59:25,662 : INFO : worker thread finished; awaiting finish of 1 more threads\n",
      "2021-12-07 20:59:25,663 : INFO : worker thread finished; awaiting finish of 0 more threads\n",
      "2021-12-07 20:59:25,664 : INFO : EPOCH - 1 : training on 226533 raw words (184518 effective words) took 0.2s, 895704 effective words/s\n",
      "2021-12-07 20:59:25,821 : INFO : worker thread finished; awaiting finish of 2 more threads\n",
      "2021-12-07 20:59:25,829 : INFO : worker thread finished; awaiting finish of 1 more threads\n",
      "2021-12-07 20:59:25,831 : INFO : worker thread finished; awaiting finish of 0 more threads\n",
      "2021-12-07 20:59:25,832 : INFO : EPOCH - 2 : training on 226533 raw words (184513 effective words) took 0.2s, 1117548 effective words/s\n",
      "2021-12-07 20:59:25,975 : INFO : worker thread finished; awaiting finish of 2 more threads\n",
      "2021-12-07 20:59:25,983 : INFO : worker thread finished; awaiting finish of 1 more threads\n",
      "2021-12-07 20:59:25,987 : INFO : worker thread finished; awaiting finish of 0 more threads\n",
      "2021-12-07 20:59:25,988 : INFO : EPOCH - 3 : training on 226533 raw words (184566 effective words) took 0.2s, 1200139 effective words/s\n",
      "2021-12-07 20:59:26,146 : INFO : worker thread finished; awaiting finish of 2 more threads\n",
      "2021-12-07 20:59:26,152 : INFO : worker thread finished; awaiting finish of 1 more threads\n",
      "2021-12-07 20:59:26,158 : INFO : worker thread finished; awaiting finish of 0 more threads\n",
      "2021-12-07 20:59:26,159 : INFO : EPOCH - 4 : training on 226533 raw words (184502 effective words) took 0.2s, 1097536 effective words/s\n",
      "2021-12-07 20:59:26,312 : INFO : worker thread finished; awaiting finish of 2 more threads\n",
      "2021-12-07 20:59:26,324 : INFO : worker thread finished; awaiting finish of 1 more threads\n",
      "2021-12-07 20:59:26,325 : INFO : worker thread finished; awaiting finish of 0 more threads\n",
      "2021-12-07 20:59:26,326 : INFO : EPOCH - 5 : training on 226533 raw words (184413 effective words) took 0.2s, 1119491 effective words/s\n",
      "2021-12-07 20:59:26,497 : INFO : worker thread finished; awaiting finish of 2 more threads\n",
      "2021-12-07 20:59:26,503 : INFO : worker thread finished; awaiting finish of 1 more threads\n",
      "2021-12-07 20:59:26,506 : INFO : worker thread finished; awaiting finish of 0 more threads\n",
      "2021-12-07 20:59:26,507 : INFO : EPOCH - 6 : training on 226533 raw words (184549 effective words) took 0.2s, 1034710 effective words/s\n",
      "2021-12-07 20:59:26,730 : INFO : worker thread finished; awaiting finish of 2 more threads\n",
      "2021-12-07 20:59:26,732 : INFO : worker thread finished; awaiting finish of 1 more threads\n",
      "2021-12-07 20:59:26,741 : INFO : worker thread finished; awaiting finish of 0 more threads\n",
      "2021-12-07 20:59:26,741 : INFO : EPOCH - 7 : training on 226533 raw words (184445 effective words) took 0.2s, 797499 effective words/s\n",
      "2021-12-07 20:59:26,982 : INFO : worker thread finished; awaiting finish of 2 more threads\n",
      "2021-12-07 20:59:26,992 : INFO : worker thread finished; awaiting finish of 1 more threads\n",
      "2021-12-07 20:59:26,995 : INFO : worker thread finished; awaiting finish of 0 more threads\n",
      "2021-12-07 20:59:26,996 : INFO : EPOCH - 8 : training on 226533 raw words (184553 effective words) took 0.3s, 729904 effective words/s\n",
      "2021-12-07 20:59:27,232 : INFO : worker thread finished; awaiting finish of 2 more threads\n",
      "2021-12-07 20:59:27,236 : INFO : worker thread finished; awaiting finish of 1 more threads\n",
      "2021-12-07 20:59:27,248 : INFO : worker thread finished; awaiting finish of 0 more threads\n",
      "2021-12-07 20:59:27,248 : INFO : EPOCH - 9 : training on 226533 raw words (184463 effective words) took 0.2s, 741886 effective words/s\n",
      "2021-12-07 20:59:27,418 : INFO : worker thread finished; awaiting finish of 2 more threads\n",
      "2021-12-07 20:59:27,429 : INFO : worker thread finished; awaiting finish of 1 more threads\n",
      "2021-12-07 20:59:27,431 : INFO : worker thread finished; awaiting finish of 0 more threads\n",
      "2021-12-07 20:59:27,432 : INFO : EPOCH - 10 : training on 226533 raw words (184553 effective words) took 0.2s, 1018493 effective words/s\n",
      "2021-12-07 20:59:27,572 : INFO : worker thread finished; awaiting finish of 2 more threads\n",
      "2021-12-07 20:59:27,579 : INFO : worker thread finished; awaiting finish of 1 more threads\n",
      "2021-12-07 20:59:27,581 : INFO : worker thread finished; awaiting finish of 0 more threads\n",
      "2021-12-07 20:59:27,582 : INFO : EPOCH - 11 : training on 226533 raw words (184500 effective words) took 0.1s, 1250905 effective words/s\n",
      "2021-12-07 20:59:27,720 : INFO : worker thread finished; awaiting finish of 2 more threads\n",
      "2021-12-07 20:59:27,731 : INFO : worker thread finished; awaiting finish of 1 more threads\n",
      "2021-12-07 20:59:27,734 : INFO : worker thread finished; awaiting finish of 0 more threads\n",
      "2021-12-07 20:59:27,734 : INFO : EPOCH - 12 : training on 226533 raw words (184617 effective words) took 0.1s, 1236304 effective words/s\n",
      "2021-12-07 20:59:27,882 : INFO : worker thread finished; awaiting finish of 2 more threads\n",
      "2021-12-07 20:59:27,893 : INFO : worker thread finished; awaiting finish of 1 more threads\n",
      "2021-12-07 20:59:27,896 : INFO : worker thread finished; awaiting finish of 0 more threads\n",
      "2021-12-07 20:59:27,896 : INFO : EPOCH - 13 : training on 226533 raw words (184533 effective words) took 0.2s, 1155061 effective words/s\n",
      "2021-12-07 20:59:28,038 : INFO : worker thread finished; awaiting finish of 2 more threads\n",
      "2021-12-07 20:59:28,049 : INFO : worker thread finished; awaiting finish of 1 more threads\n",
      "2021-12-07 20:59:28,051 : INFO : worker thread finished; awaiting finish of 0 more threads\n",
      "2021-12-07 20:59:28,052 : INFO : EPOCH - 14 : training on 226533 raw words (184469 effective words) took 0.2s, 1207887 effective words/s\n",
      "2021-12-07 20:59:28,204 : INFO : worker thread finished; awaiting finish of 2 more threads\n",
      "2021-12-07 20:59:28,212 : INFO : worker thread finished; awaiting finish of 1 more threads\n",
      "2021-12-07 20:59:28,216 : INFO : worker thread finished; awaiting finish of 0 more threads\n",
      "2021-12-07 20:59:28,216 : INFO : EPOCH - 15 : training on 226533 raw words (184457 effective words) took 0.2s, 1139496 effective words/s\n",
      "2021-12-07 20:59:28,368 : INFO : worker thread finished; awaiting finish of 2 more threads\n",
      "2021-12-07 20:59:28,379 : INFO : worker thread finished; awaiting finish of 1 more threads\n",
      "2021-12-07 20:59:28,380 : INFO : worker thread finished; awaiting finish of 0 more threads\n",
      "2021-12-07 20:59:28,380 : INFO : EPOCH - 16 : training on 226533 raw words (184426 effective words) took 0.2s, 1148143 effective words/s\n",
      "2021-12-07 20:59:28,527 : INFO : worker thread finished; awaiting finish of 2 more threads\n",
      "2021-12-07 20:59:28,531 : INFO : worker thread finished; awaiting finish of 1 more threads\n",
      "2021-12-07 20:59:28,537 : INFO : worker thread finished; awaiting finish of 0 more threads\n",
      "2021-12-07 20:59:28,538 : INFO : EPOCH - 17 : training on 226533 raw words (184494 effective words) took 0.2s, 1194450 effective words/s\n",
      "2021-12-07 20:59:28,677 : INFO : worker thread finished; awaiting finish of 2 more threads\n",
      "2021-12-07 20:59:28,685 : INFO : worker thread finished; awaiting finish of 1 more threads\n",
      "2021-12-07 20:59:28,687 : INFO : worker thread finished; awaiting finish of 0 more threads\n",
      "2021-12-07 20:59:28,688 : INFO : EPOCH - 18 : training on 226533 raw words (184479 effective words) took 0.1s, 1248454 effective words/s\n",
      "2021-12-07 20:59:28,831 : INFO : worker thread finished; awaiting finish of 2 more threads\n",
      "2021-12-07 20:59:28,840 : INFO : worker thread finished; awaiting finish of 1 more threads\n",
      "2021-12-07 20:59:28,843 : INFO : worker thread finished; awaiting finish of 0 more threads\n",
      "2021-12-07 20:59:28,844 : INFO : EPOCH - 19 : training on 226533 raw words (184557 effective words) took 0.2s, 1207224 effective words/s\n",
      "2021-12-07 20:59:28,982 : INFO : worker thread finished; awaiting finish of 2 more threads\n",
      "2021-12-07 20:59:28,990 : INFO : worker thread finished; awaiting finish of 1 more threads\n",
      "2021-12-07 20:59:28,993 : INFO : worker thread finished; awaiting finish of 0 more threads\n",
      "2021-12-07 20:59:28,994 : INFO : EPOCH - 20 : training on 226533 raw words (184529 effective words) took 0.1s, 1248559 effective words/s\n",
      "2021-12-07 20:59:29,127 : INFO : worker thread finished; awaiting finish of 2 more threads\n",
      "2021-12-07 20:59:29,136 : INFO : worker thread finished; awaiting finish of 1 more threads\n",
      "2021-12-07 20:59:29,139 : INFO : worker thread finished; awaiting finish of 0 more threads\n",
      "2021-12-07 20:59:29,140 : INFO : EPOCH - 21 : training on 226533 raw words (184498 effective words) took 0.1s, 1284882 effective words/s\n",
      "2021-12-07 20:59:29,285 : INFO : worker thread finished; awaiting finish of 2 more threads\n",
      "2021-12-07 20:59:29,293 : INFO : worker thread finished; awaiting finish of 1 more threads\n",
      "2021-12-07 20:59:29,295 : INFO : worker thread finished; awaiting finish of 0 more threads\n",
      "2021-12-07 20:59:29,296 : INFO : EPOCH - 22 : training on 226533 raw words (184554 effective words) took 0.2s, 1203552 effective words/s\n",
      "2021-12-07 20:59:29,432 : INFO : worker thread finished; awaiting finish of 2 more threads\n",
      "2021-12-07 20:59:29,441 : INFO : worker thread finished; awaiting finish of 1 more threads\n",
      "2021-12-07 20:59:29,443 : INFO : worker thread finished; awaiting finish of 0 more threads\n",
      "2021-12-07 20:59:29,444 : INFO : EPOCH - 23 : training on 226533 raw words (184521 effective words) took 0.1s, 1274818 effective words/s\n",
      "2021-12-07 20:59:29,584 : INFO : worker thread finished; awaiting finish of 2 more threads\n",
      "2021-12-07 20:59:29,591 : INFO : worker thread finished; awaiting finish of 1 more threads\n",
      "2021-12-07 20:59:29,593 : INFO : worker thread finished; awaiting finish of 0 more threads\n",
      "2021-12-07 20:59:29,593 : INFO : EPOCH - 24 : training on 226533 raw words (184478 effective words) took 0.1s, 1254742 effective words/s\n",
      "2021-12-07 20:59:29,731 : INFO : worker thread finished; awaiting finish of 2 more threads\n",
      "2021-12-07 20:59:29,737 : INFO : worker thread finished; awaiting finish of 1 more threads\n",
      "2021-12-07 20:59:29,740 : INFO : worker thread finished; awaiting finish of 0 more threads\n",
      "2021-12-07 20:59:29,740 : INFO : EPOCH - 25 : training on 226533 raw words (184374 effective words) took 0.1s, 1278778 effective words/s\n",
      "2021-12-07 20:59:29,885 : INFO : worker thread finished; awaiting finish of 2 more threads\n",
      "2021-12-07 20:59:29,892 : INFO : worker thread finished; awaiting finish of 1 more threads\n",
      "2021-12-07 20:59:29,896 : INFO : worker thread finished; awaiting finish of 0 more threads\n",
      "2021-12-07 20:59:29,896 : INFO : EPOCH - 26 : training on 226533 raw words (184465 effective words) took 0.2s, 1203527 effective words/s\n",
      "2021-12-07 20:59:30,037 : INFO : worker thread finished; awaiting finish of 2 more threads\n",
      "2021-12-07 20:59:30,044 : INFO : worker thread finished; awaiting finish of 1 more threads\n",
      "2021-12-07 20:59:30,044 : INFO : worker thread finished; awaiting finish of 0 more threads\n",
      "2021-12-07 20:59:30,045 : INFO : EPOCH - 27 : training on 226533 raw words (184553 effective words) took 0.1s, 1266233 effective words/s\n",
      "2021-12-07 20:59:30,180 : INFO : worker thread finished; awaiting finish of 2 more threads\n",
      "2021-12-07 20:59:30,190 : INFO : worker thread finished; awaiting finish of 1 more threads\n",
      "2021-12-07 20:59:30,192 : INFO : worker thread finished; awaiting finish of 0 more threads\n",
      "2021-12-07 20:59:30,192 : INFO : EPOCH - 28 : training on 226533 raw words (184531 effective words) took 0.1s, 1273012 effective words/s\n",
      "2021-12-07 20:59:30,332 : INFO : worker thread finished; awaiting finish of 2 more threads\n",
      "2021-12-07 20:59:30,339 : INFO : worker thread finished; awaiting finish of 1 more threads\n",
      "2021-12-07 20:59:30,341 : INFO : worker thread finished; awaiting finish of 0 more threads\n",
      "2021-12-07 20:59:30,342 : INFO : EPOCH - 29 : training on 226533 raw words (184527 effective words) took 0.1s, 1272815 effective words/s\n",
      "2021-12-07 20:59:30,479 : INFO : worker thread finished; awaiting finish of 2 more threads\n",
      "2021-12-07 20:59:30,487 : INFO : worker thread finished; awaiting finish of 1 more threads\n",
      "2021-12-07 20:59:30,490 : INFO : worker thread finished; awaiting finish of 0 more threads\n",
      "2021-12-07 20:59:30,490 : INFO : EPOCH - 30 : training on 226533 raw words (184513 effective words) took 0.1s, 1269099 effective words/s\n",
      "2021-12-07 20:59:30,633 : INFO : worker thread finished; awaiting finish of 2 more threads\n",
      "2021-12-07 20:59:30,637 : INFO : worker thread finished; awaiting finish of 1 more threads\n",
      "2021-12-07 20:59:30,643 : INFO : worker thread finished; awaiting finish of 0 more threads\n",
      "2021-12-07 20:59:30,644 : INFO : EPOCH - 31 : training on 226533 raw words (184577 effective words) took 0.2s, 1225939 effective words/s\n",
      "2021-12-07 20:59:30,783 : INFO : worker thread finished; awaiting finish of 2 more threads\n",
      "2021-12-07 20:59:30,789 : INFO : worker thread finished; awaiting finish of 1 more threads\n",
      "2021-12-07 20:59:30,791 : INFO : worker thread finished; awaiting finish of 0 more threads\n",
      "2021-12-07 20:59:30,791 : INFO : EPOCH - 32 : training on 226533 raw words (184547 effective words) took 0.1s, 1272399 effective words/s\n",
      "2021-12-07 20:59:30,963 : INFO : worker thread finished; awaiting finish of 2 more threads\n",
      "2021-12-07 20:59:30,965 : INFO : worker thread finished; awaiting finish of 1 more threads\n",
      "2021-12-07 20:59:30,972 : INFO : worker thread finished; awaiting finish of 0 more threads\n",
      "2021-12-07 20:59:30,972 : INFO : EPOCH - 33 : training on 226533 raw words (184539 effective words) took 0.2s, 1037425 effective words/s\n",
      "2021-12-07 20:59:31,110 : INFO : worker thread finished; awaiting finish of 2 more threads\n",
      "2021-12-07 20:59:31,116 : INFO : worker thread finished; awaiting finish of 1 more threads\n",
      "2021-12-07 20:59:31,122 : INFO : worker thread finished; awaiting finish of 0 more threads\n",
      "2021-12-07 20:59:31,122 : INFO : EPOCH - 34 : training on 226533 raw words (184508 effective words) took 0.1s, 1263983 effective words/s\n",
      "2021-12-07 20:59:31,261 : INFO : worker thread finished; awaiting finish of 2 more threads\n",
      "2021-12-07 20:59:31,271 : INFO : worker thread finished; awaiting finish of 1 more threads\n",
      "2021-12-07 20:59:31,274 : INFO : worker thread finished; awaiting finish of 0 more threads\n",
      "2021-12-07 20:59:31,275 : INFO : EPOCH - 35 : training on 226533 raw words (184503 effective words) took 0.2s, 1228875 effective words/s\n",
      "2021-12-07 20:59:31,418 : INFO : worker thread finished; awaiting finish of 2 more threads\n",
      "2021-12-07 20:59:31,427 : INFO : worker thread finished; awaiting finish of 1 more threads\n",
      "2021-12-07 20:59:31,428 : INFO : worker thread finished; awaiting finish of 0 more threads\n",
      "2021-12-07 20:59:31,429 : INFO : EPOCH - 36 : training on 226533 raw words (184568 effective words) took 0.2s, 1221196 effective words/s\n",
      "2021-12-07 20:59:31,576 : INFO : worker thread finished; awaiting finish of 2 more threads\n",
      "2021-12-07 20:59:31,584 : INFO : worker thread finished; awaiting finish of 1 more threads\n",
      "2021-12-07 20:59:31,588 : INFO : worker thread finished; awaiting finish of 0 more threads\n",
      "2021-12-07 20:59:31,589 : INFO : EPOCH - 37 : training on 226533 raw words (184559 effective words) took 0.2s, 1170364 effective words/s\n",
      "2021-12-07 20:59:31,728 : INFO : worker thread finished; awaiting finish of 2 more threads\n",
      "2021-12-07 20:59:31,737 : INFO : worker thread finished; awaiting finish of 1 more threads\n",
      "2021-12-07 20:59:31,738 : INFO : worker thread finished; awaiting finish of 0 more threads\n",
      "2021-12-07 20:59:31,739 : INFO : EPOCH - 38 : training on 226533 raw words (184506 effective words) took 0.1s, 1259682 effective words/s\n",
      "2021-12-07 20:59:31,872 : INFO : worker thread finished; awaiting finish of 2 more threads\n",
      "2021-12-07 20:59:31,882 : INFO : worker thread finished; awaiting finish of 1 more threads\n",
      "2021-12-07 20:59:31,883 : INFO : worker thread finished; awaiting finish of 0 more threads\n",
      "2021-12-07 20:59:31,884 : INFO : EPOCH - 39 : training on 226533 raw words (184484 effective words) took 0.1s, 1293752 effective words/s\n",
      "2021-12-07 20:59:32,029 : INFO : worker thread finished; awaiting finish of 2 more threads\n",
      "2021-12-07 20:59:32,037 : INFO : worker thread finished; awaiting finish of 1 more threads\n",
      "2021-12-07 20:59:32,040 : INFO : worker thread finished; awaiting finish of 0 more threads\n",
      "2021-12-07 20:59:32,041 : INFO : EPOCH - 40 : training on 226533 raw words (184530 effective words) took 0.2s, 1196638 effective words/s\n",
      "2021-12-07 20:59:32,041 : INFO : Doc2Vec lifecycle event {'msg': 'training on 9061320 raw words (7380471 effective words) took 6.6s, 1120637 effective words/s', 'datetime': '2021-12-07T20:59:32.041513', 'gensim': '4.1.2', 'python': '3.9.7 (default, Sep 16 2021, 08:50:36) \\n[Clang 10.0.0 ]', 'platform': 'macOS-10.16-x86_64-i386-64bit', 'event': 'train'}\n"
     ]
    }
   ],
   "source": [
    "model.train(train_corpus, total_examples=model.corpus_count, epochs=model.epochs)"
   ]
  },
  {
   "cell_type": "code",
   "execution_count": 63,
   "metadata": {},
   "outputs": [
    {
     "name": "stderr",
     "output_type": "stream",
     "text": [
      "2021-12-07 21:14:22,828 : INFO : Doc2Vec lifecycle event {'fname_or_handle': '../../models/P76I900/HW4/4cls_doc2vec.model', 'separately': 'None', 'sep_limit': 10485760, 'ignore': frozenset(), 'datetime': '2021-12-07T21:14:22.828821', 'gensim': '4.1.2', 'python': '3.9.7 (default, Sep 16 2021, 08:50:36) \\n[Clang 10.0.0 ]', 'platform': 'macOS-10.16-x86_64-i386-64bit', 'event': 'saving'}\n",
      "2021-12-07 21:14:22,830 : INFO : not storing attribute cum_table\n",
      "2021-12-07 21:14:22,836 : INFO : saved ../../models/P76I900/HW4/4cls_doc2vec.model\n"
     ]
    }
   ],
   "source": [
    "model.save(\"../../models/P76I900/HW4/4cls_doc2vec.model\")"
   ]
  },
  {
   "cell_type": "code",
   "execution_count": 52,
   "metadata": {},
   "outputs": [
    {
     "name": "stdout",
     "output_type": "stream",
     "text": [
      "552 0.9759148359298706\n",
      "0 0.9750752449035645\n",
      "189 0.6032386422157288\n",
      "594 0.6012837290763855\n",
      "674 0.5979137420654297\n"
     ]
    }
   ],
   "source": [
    "t0 = train_corpus[0].words\n",
    "iv = model.infer_vector(t0)\n",
    "sims = model.dv.most_similar([iv], topn=5)\n",
    "\n",
    "for id, sim in sims:\n",
    "    print(id, sim)\n"
   ]
  },
  {
   "cell_type": "code",
   "execution_count": 62,
   "metadata": {},
   "outputs": [
    {
     "name": "stdout",
     "output_type": "stream",
     "text": [
      "369 0.6040047407150269\n",
      "372 0.5973949432373047\n",
      "617 0.5838903784751892\n",
      "Monday, March 16, 2020  COVID-19 Related articles 26 October 2021: UK pay freeze on public sector employees will end next year 12 October 2021: Texas governor bans COVID-19 vaccine mandate by any 'entity' 3 October 2021: Rosemary Cousin, Greens candidate in South Gippsland, Australia, speaks to Wikinews about democracy, transport, forests and other local issues 3 October 2021: Australia: Wikinews interviews Les Harmer, South Gippsland local election candidate 27 September 2021: Australia: Wikinews interviews David Liebelt, South Gippsland local election candidate 2019-nCoV, which causes COVID-19 Collaborate! Pillars of Wikinews writing Writing an article On Friday, United States President Donald Trump declared a national emergency in response to the ongoing coronavirus outbreak. The move came two days after the World Health Organization declared the outbreak, which causes the COVID-19 disease, to be a pandemic. The move gives the federal government access to around US$50 billion in extra funding to combat the pandemic, according to NBC News. The proclamation specifically said \"the COVID-19 outbreak in the United States constitutes a national emergency\" and said the national emergency began on March 1, almost two weeks before the proclamation itself. The United States Department of Health and Human Services declared the outbreak a \"public health emergency\" on January 31. Trump did not place the Federal Emergency Management Agency (FEMA) in charge of the government's response to COVID-19, which Politico reported left some experts in disaster management disappointed. Politico quoted Tim Manning, formerly a deputy administrator at FEMA, as saying \"FEMA has an important role in coordinating the larger response to the crisis\" and \"[i]f there's an emergency, FEMA needs to be involved.\" Trump made the decision under provisions of the National Emergencies Act, amongst other governing authorities. The Trump administration also announced other efforts in response to COVID-19, including waiving the interest it collects on federal student loans and increasing U.S. strategic oil reserve oil purchases. Have an opinion on this story? Share it!\n",
      "\n",
      "\"World Health Organization declares COVID-19 pandemic\" — Wikinews, March 14, 2020 2019–20 coronavirus pandemic Adam Edelman, Peter Alexander and Kristen Welker. \"Trump declares national emergency to combat coronavirus, authorizes waiving of laws and regulations\" — NBC News, March 13, 2020 Anita Kumar. \"Trump declares national emergency in latest bid to combat coronavirus\" — Politico, March 13, 2020 Donald Trump. \"Proclamation on Declaring a National Emergency Concerning the Novel Coronavirus Disease (COVID-19) Outbreak\" — White House, March 13, 2020\n"
     ]
    }
   ],
   "source": [
    "input_sent = \"covid death\"\n",
    "iv = model.infer_vector(input_sent.split())\n",
    "sims = model.dv.most_similar([iv], topn=3)\n",
    "\n",
    "for id, sim in sims: print(id, sim)\n",
    "\n",
    "print(corpus[sims[0][0]])"
   ]
  }
 ],
 "metadata": {
  "interpreter": {
   "hash": "d5df5e9682c848108f9246135c9fab90698955b95c1daba20bf9d3819be04d35"
  },
  "kernelspec": {
   "display_name": "Python 3.9.7 64-bit ('P76I900_HW1': conda)",
   "language": "python",
   "name": "python3"
  },
  "language_info": {
   "codemirror_mode": {
    "name": "ipython",
    "version": 3
   },
   "file_extension": ".py",
   "mimetype": "text/x-python",
   "name": "python",
   "nbconvert_exporter": "python",
   "pygments_lexer": "ipython3",
   "version": "3.9.7"
  },
  "orig_nbformat": 4
 },
 "nbformat": 4,
 "nbformat_minor": 2
}
