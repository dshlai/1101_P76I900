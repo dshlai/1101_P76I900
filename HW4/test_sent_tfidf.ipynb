{
 "cells": [
  {
   "cell_type": "code",
   "execution_count": 1,
   "metadata": {},
   "outputs": [
    {
     "name": "stderr",
     "output_type": "stream",
     "text": [
      "/home/dennislai/anaconda3/envs/P76I900/lib/python3.9/site-packages/torch/cuda/__init__.py:52: UserWarning: CUDA initialization: Unexpected error from cudaGetDeviceCount(). Did you run some cuda functions before calling NumCudaDevices() that might have already set an error? Error 804: forward compatibility was attempted on non supported HW (Triggered internally at  ../c10/cuda/CUDAFunctions.cpp:115.)\n",
      "  return torch._C._cuda_getDeviceCount() > 0\n"
     ]
    }
   ],
   "source": [
    "import textacy\n",
    "import textacy.representations.vectorizers as vectorizers\n",
    "import pickle\n",
    "import numpy as np\n",
    "import spacy\n",
    "nlp = spacy.load(\"en_core_web_trf\")\n"
   ]
  },
  {
   "cell_type": "code",
   "execution_count": 2,
   "metadata": {},
   "outputs": [],
   "source": [
    "vectorizer = pickle.load(open(\"../../models/P76I900/HW4/tfidf_vectorizer.pkl\", \"rb\"))\n",
    "doc_matrix = pickle.load(open(\"../../models/P76I900/HW4/tfidf_doc_matrix.pkl\", \"rb\"))"
   ]
  },
  {
   "cell_type": "code",
   "execution_count": 3,
   "metadata": {},
   "outputs": [],
   "source": [
    "corpus_test = textacy.Corpus.load(\"en_core_web_trf\", \"../../models/P76I900/HW4/wikinews_4cls_corpus_train.bin.gz\")"
   ]
  },
  {
   "cell_type": "code",
   "execution_count": 18,
   "metadata": {},
   "outputs": [],
   "source": [
    "def get_sents(doc):\n",
    "    doc = nlp(doc)\n",
    "    return list(doc.sents)"
   ]
  },
  {
   "cell_type": "code",
   "execution_count": 25,
   "metadata": {},
   "outputs": [],
   "source": [
    "\n",
    "def simple_rank_sentences(doc, vec, doc_matrix, topn=3):\n",
    "\n",
    "    sents = get_sents(doc)\n",
    "    sent_idx = [[vec.vocabulary_terms[w.lemma_] for w in sent if w.lemma_ in vec.vocabulary_terms] for sent in sents]\n",
    "    tfidf_sents = [[doc_matrix[:, idx].toarray() for idx in sent] for sent in sent_idx]\n",
    "    doc_val = np.sum(doc_matrix)\n",
    "    sent_vals = [(float(np.sum(sent)) / doc_val) for sent in tfidf_sents]\n",
    "    ranked = [p for p in zip(range(len(sent_vals)), sent_vals)]\n",
    "    ranked = sorted(ranked, key=lambda x: x[1], reverse=True)\n",
    "\n",
    "    return ranked[:topn]"
   ]
  },
  {
   "cell_type": "code",
   "execution_count": 26,
   "metadata": {},
   "outputs": [],
   "source": [
    "test_doc = corpus_test[0]\n",
    "ranked = simple_rank_sentences(test_doc, vectorizer, doc_matrix)"
   ]
  },
  {
   "cell_type": "code",
   "execution_count": 27,
   "metadata": {},
   "outputs": [
    {
     "data": {
      "text/plain": [
       "[(10, 0.01419279933712399),\n",
       " (9, 0.010805623696357443),\n",
       " (12, 0.010679161843208954)]"
      ]
     },
     "execution_count": 27,
     "metadata": {},
     "output_type": "execute_result"
    }
   ],
   "source": [
    "ranked"
   ]
  },
  {
   "cell_type": "code",
   "execution_count": 28,
   "metadata": {},
   "outputs": [
    {
     "name": "stdout",
     "output_type": "stream",
     "text": [
      "\"I'm grateful this ordeal is over, and I'm so looking forward to getting back to the job I love,\" Abdul said in an Associated Press interview after the decision was announced to keep her on the show. :  0.01419279933712399 \n",
      "\n",
      "Two years later, he told reporters that he had been involved in a secret romantic relationship with Abdul, which would have been a violation of the show's rules and Abdul's employment contract. :  0.010805623696357443 \n",
      "\n",
      "\"'Idol' Probe Finds No Proof Of Paula Abdul/ Corey Clark Affair\" — MTV News, August 12, 2005 \"Paula Abdul to remain on 'American Idol,' Fox says\" — Associated Press, August 13, 2005 :  0.010679161843208954 \n",
      "\n",
      "Sunday, August 14, 2005  Executives of the U.S. Fox network said Friday that singer Paula Abdul was cleared of any wrongdoing in regard to charges that she had an improper relationship with former American Idol contestant Corey Clark. The network cleared her to return to the show for its fifth season. American Idol has topped network television ratings as the most-watched program in the U.S. for the past three years. Abdul is one of the three judges of the talent/variety program, where she is popularly referred to as the \"nice one\" by contestants. Fox reportedly hired a former federal prosecutor to lead an investigation into whether Abdul compromised the integrity of its flagship series. After an investigation of more than three months, interviewing 43 people and looking over documents supplied by both Abdul and Clark, the investigation showed no proof that Abdul had a sexual relationship with Clark. Clark was booted from the second season of Idol after it was discovered he hid a previous domestic violence arrest record from producers. Two years later, he told reporters that he had been involved in a secret romantic relationship with Abdul, which would have been a violation of the show's rules and Abdul's employment contract. \"I'm grateful this ordeal is over, and I'm so looking forward to getting back to the job I love,\" Abdul said in an Associated Press interview after the decision was announced to keep her on the show.\n",
      "\n",
      "Corey Moss. \"'Idol' Probe Finds No Proof Of Paula Abdul/ Corey Clark Affair\" — MTV News, August 12, 2005 \"Paula Abdul to remain on 'American Idol,' Fox says\" — Associated Press, August 13, 2005 Charlie McCollum. \"Paula Abdul stays as judge on \"American Idol\" — San Jose Mercury News, August 12, 2005 Public domain Public domain false false\n"
     ]
    }
   ],
   "source": [
    "sents = get_sents(test_doc)\n",
    "for idx, v in ranked:\n",
    "    print(sents[idx], \": \", v, \"\\n\")\n",
    "print(test_doc)"
   ]
  }
 ],
 "metadata": {
  "kernelspec": {
   "display_name": "Python 3",
   "language": "python",
   "name": "python3"
  },
  "language_info": {
   "codemirror_mode": {
    "name": "ipython",
    "version": 3
   },
   "file_extension": ".py",
   "mimetype": "text/x-python",
   "name": "python",
   "nbconvert_exporter": "python",
   "pygments_lexer": "ipython3",
   "version": "3.9.7"
  },
  "orig_nbformat": 4
 },
 "nbformat": 4,
 "nbformat_minor": 2
}
